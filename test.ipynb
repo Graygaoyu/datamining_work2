{
 "cells": [
  {
   "cell_type": "code",
   "execution_count": 2,
   "metadata": {
    "collapsed": true
   },
   "outputs": [],
   "source": [
    "import numpy as np\n",
    "import pandas as pd\n",
    "import matplotlib.pyplot as plt"
   ]
  },
  {
   "cell_type": "markdown",
   "metadata": {},
   "source": [
    "# 读取数据集并存放在winedata中并显示前几个数据"
   ]
  },
  {
   "cell_type": "code",
   "execution_count": 3,
   "metadata": {
    "scrolled": true
   },
   "outputs": [
    {
     "data": {
      "text/html": [
       "<div>\n",
       "<table border=\"1\" class=\"dataframe\">\n",
       "  <thead>\n",
       "    <tr style=\"text-align: right;\">\n",
       "      <th></th>\n",
       "      <th>﻿id</th>\n",
       "      <th>country</th>\n",
       "      <th>description</th>\n",
       "      <th>designation</th>\n",
       "      <th>points</th>\n",
       "      <th>price</th>\n",
       "      <th>province</th>\n",
       "      <th>region_1</th>\n",
       "      <th>region_2</th>\n",
       "      <th>variety</th>\n",
       "      <th>winery</th>\n",
       "    </tr>\n",
       "  </thead>\n",
       "  <tbody>\n",
       "    <tr>\n",
       "      <th>0</th>\n",
       "      <td>0</td>\n",
       "      <td>US</td>\n",
       "      <td>This tremendous 100% varietal wine hails from ...</td>\n",
       "      <td>Martha's Vineyard</td>\n",
       "      <td>96</td>\n",
       "      <td>235.0</td>\n",
       "      <td>California</td>\n",
       "      <td>Napa Valley</td>\n",
       "      <td>Napa</td>\n",
       "      <td>Cabernet Sauvignon</td>\n",
       "      <td>Heitz</td>\n",
       "    </tr>\n",
       "    <tr>\n",
       "      <th>2</th>\n",
       "      <td>2</td>\n",
       "      <td>US</td>\n",
       "      <td>Mac Watson honors the memory of a wine once ma...</td>\n",
       "      <td>Special Selected Late Harvest</td>\n",
       "      <td>96</td>\n",
       "      <td>90.0</td>\n",
       "      <td>California</td>\n",
       "      <td>Knights Valley</td>\n",
       "      <td>Sonoma</td>\n",
       "      <td>Sauvignon Blanc</td>\n",
       "      <td>Macauley</td>\n",
       "    </tr>\n",
       "    <tr>\n",
       "      <th>3</th>\n",
       "      <td>3</td>\n",
       "      <td>US</td>\n",
       "      <td>This spent 20 months in 30% new French oak, an...</td>\n",
       "      <td>Reserve</td>\n",
       "      <td>96</td>\n",
       "      <td>65.0</td>\n",
       "      <td>Oregon</td>\n",
       "      <td>Willamette Valley</td>\n",
       "      <td>Willamette Valley</td>\n",
       "      <td>Pinot Noir</td>\n",
       "      <td>Ponzi</td>\n",
       "    </tr>\n",
       "    <tr>\n",
       "      <th>8</th>\n",
       "      <td>8</td>\n",
       "      <td>US</td>\n",
       "      <td>This re-named vineyard was formerly bottled as...</td>\n",
       "      <td>Silice</td>\n",
       "      <td>95</td>\n",
       "      <td>65.0</td>\n",
       "      <td>Oregon</td>\n",
       "      <td>Chehalem Mountains</td>\n",
       "      <td>Willamette Valley</td>\n",
       "      <td>Pinot Noir</td>\n",
       "      <td>Bergström</td>\n",
       "    </tr>\n",
       "    <tr>\n",
       "      <th>9</th>\n",
       "      <td>9</td>\n",
       "      <td>US</td>\n",
       "      <td>The producer sources from two blocks of the vi...</td>\n",
       "      <td>Gap's Crown Vineyard</td>\n",
       "      <td>95</td>\n",
       "      <td>60.0</td>\n",
       "      <td>California</td>\n",
       "      <td>Sonoma Coast</td>\n",
       "      <td>Sonoma</td>\n",
       "      <td>Pinot Noir</td>\n",
       "      <td>Blue Farm</td>\n",
       "    </tr>\n",
       "  </tbody>\n",
       "</table>\n",
       "</div>"
      ],
      "text/plain": [
       "   ﻿id country                                        description  \\\n",
       "0    0      US  This tremendous 100% varietal wine hails from ...   \n",
       "2    2      US  Mac Watson honors the memory of a wine once ma...   \n",
       "3    3      US  This spent 20 months in 30% new French oak, an...   \n",
       "8    8      US  This re-named vineyard was formerly bottled as...   \n",
       "9    9      US  The producer sources from two blocks of the vi...   \n",
       "\n",
       "                     designation  points  price    province  \\\n",
       "0              Martha's Vineyard      96  235.0  California   \n",
       "2  Special Selected Late Harvest      96   90.0  California   \n",
       "3                        Reserve      96   65.0      Oregon   \n",
       "8                         Silice      95   65.0      Oregon   \n",
       "9           Gap's Crown Vineyard      95   60.0  California   \n",
       "\n",
       "             region_1           region_2             variety     winery  \n",
       "0         Napa Valley               Napa  Cabernet Sauvignon      Heitz  \n",
       "2      Knights Valley             Sonoma     Sauvignon Blanc   Macauley  \n",
       "3   Willamette Valley  Willamette Valley          Pinot Noir      Ponzi  \n",
       "8  Chehalem Mountains  Willamette Valley          Pinot Noir  Bergström  \n",
       "9        Sonoma Coast             Sonoma          Pinot Noir  Blue Farm  "
      ]
     },
     "execution_count": 3,
     "metadata": {},
     "output_type": "execute_result"
    }
   ],
   "source": [
    "winedata_file = open(\".\\winemag-data_first150k.csv\",encoding='utf-8')\n",
    "winedata = pd.read_csv(winedata_file)\n",
    "winedata = winedata.dropna()\n",
    "winedata.head()"
   ]
  },
  {
   "cell_type": "markdown",
   "metadata": {},
   "source": [
    "# 获取wine数据集的所有属性信息 除去第一个id的属性和description的属性，id属性没有包含任何模式信息，description属性信息处理较为复杂，故全部去除"
   ]
  },
  {
   "cell_type": "code",
   "execution_count": 4,
   "metadata": {
    "scrolled": false
   },
   "outputs": [
    {
     "name": "stdout",
     "output_type": "stream",
     "text": [
      "<class 'pandas.core.frame.DataFrame'>\n",
      "Int64Index: 39241 entries, 0 to 150916\n",
      "Data columns (total 9 columns):\n",
      "country        39241 non-null object\n",
      "designation    39241 non-null object\n",
      "points         39241 non-null int64\n",
      "price          39241 non-null float64\n",
      "province       39241 non-null object\n",
      "region_1       39241 non-null object\n",
      "region_2       39241 non-null object\n",
      "variety        39241 non-null object\n",
      "winery         39241 non-null object\n",
      "dtypes: float64(1), int64(1), object(7)\n",
      "memory usage: 3.0+ MB\n"
     ]
    },
    {
     "data": {
      "text/html": [
       "<div>\n",
       "<table border=\"1\" class=\"dataframe\">\n",
       "  <thead>\n",
       "    <tr style=\"text-align: right;\">\n",
       "      <th></th>\n",
       "      <th>country</th>\n",
       "      <th>designation</th>\n",
       "      <th>points</th>\n",
       "      <th>price</th>\n",
       "      <th>province</th>\n",
       "      <th>region_1</th>\n",
       "      <th>region_2</th>\n",
       "      <th>variety</th>\n",
       "      <th>winery</th>\n",
       "    </tr>\n",
       "  </thead>\n",
       "  <tbody>\n",
       "    <tr>\n",
       "      <th>0</th>\n",
       "      <td>US</td>\n",
       "      <td>Martha's Vineyard</td>\n",
       "      <td>96</td>\n",
       "      <td>235.0</td>\n",
       "      <td>California</td>\n",
       "      <td>Napa Valley</td>\n",
       "      <td>Napa</td>\n",
       "      <td>Cabernet Sauvignon</td>\n",
       "      <td>Heitz</td>\n",
       "    </tr>\n",
       "    <tr>\n",
       "      <th>2</th>\n",
       "      <td>US</td>\n",
       "      <td>Special Selected Late Harvest</td>\n",
       "      <td>96</td>\n",
       "      <td>90.0</td>\n",
       "      <td>California</td>\n",
       "      <td>Knights Valley</td>\n",
       "      <td>Sonoma</td>\n",
       "      <td>Sauvignon Blanc</td>\n",
       "      <td>Macauley</td>\n",
       "    </tr>\n",
       "    <tr>\n",
       "      <th>3</th>\n",
       "      <td>US</td>\n",
       "      <td>Reserve</td>\n",
       "      <td>96</td>\n",
       "      <td>65.0</td>\n",
       "      <td>Oregon</td>\n",
       "      <td>Willamette Valley</td>\n",
       "      <td>Willamette Valley</td>\n",
       "      <td>Pinot Noir</td>\n",
       "      <td>Ponzi</td>\n",
       "    </tr>\n",
       "    <tr>\n",
       "      <th>8</th>\n",
       "      <td>US</td>\n",
       "      <td>Silice</td>\n",
       "      <td>95</td>\n",
       "      <td>65.0</td>\n",
       "      <td>Oregon</td>\n",
       "      <td>Chehalem Mountains</td>\n",
       "      <td>Willamette Valley</td>\n",
       "      <td>Pinot Noir</td>\n",
       "      <td>Bergström</td>\n",
       "    </tr>\n",
       "    <tr>\n",
       "      <th>9</th>\n",
       "      <td>US</td>\n",
       "      <td>Gap's Crown Vineyard</td>\n",
       "      <td>95</td>\n",
       "      <td>60.0</td>\n",
       "      <td>California</td>\n",
       "      <td>Sonoma Coast</td>\n",
       "      <td>Sonoma</td>\n",
       "      <td>Pinot Noir</td>\n",
       "      <td>Blue Farm</td>\n",
       "    </tr>\n",
       "  </tbody>\n",
       "</table>\n",
       "</div>"
      ],
      "text/plain": [
       "  country                    designation  points  price    province  \\\n",
       "0      US              Martha's Vineyard      96  235.0  California   \n",
       "2      US  Special Selected Late Harvest      96   90.0  California   \n",
       "3      US                        Reserve      96   65.0      Oregon   \n",
       "8      US                         Silice      95   65.0      Oregon   \n",
       "9      US           Gap's Crown Vineyard      95   60.0  California   \n",
       "\n",
       "             region_1           region_2             variety     winery  \n",
       "0         Napa Valley               Napa  Cabernet Sauvignon      Heitz  \n",
       "2      Knights Valley             Sonoma     Sauvignon Blanc   Macauley  \n",
       "3   Willamette Valley  Willamette Valley          Pinot Noir      Ponzi  \n",
       "8  Chehalem Mountains  Willamette Valley          Pinot Noir  Bergström  \n",
       "9        Sonoma Coast             Sonoma          Pinot Noir  Blue Farm  "
      ]
     },
     "execution_count": 4,
     "metadata": {},
     "output_type": "execute_result"
    }
   ],
   "source": [
    "winedata = winedata.drop([winedata.columns[0]],axis=1)\n",
    "winedata = winedata.drop([winedata.columns[1]],axis=1)\n",
    "winedata.info()\n",
    "winedata.head()"
   ]
  },
  {
   "cell_type": "markdown",
   "metadata": {},
   "source": [
    "# 首先对数据预处理\n",
    "# 在数据集中可以发现points和price是连续数据，进行离散化处理\n",
    "# 可视化观察两者的数据分布"
   ]
  },
  {
   "cell_type": "code",
   "execution_count": 5,
   "metadata": {
    "collapsed": true
   },
   "outputs": [],
   "source": [
    "winedata['price'].loc[winedata['price']<200].hist(bins=20)\n",
    "plt.show()\n",
    "winedata['points'].hist()\n",
    "plt.show()"
   ]
  },
  {
   "cell_type": "markdown",
   "metadata": {},
   "source": [
    "# 首先处理points\n",
    "# 再处理price"
   ]
  },
  {
   "cell_type": "code",
   "execution_count": 6,
   "metadata": {
    "scrolled": true
   },
   "outputs": [
    {
     "data": {
      "text/html": [
       "<div>\n",
       "<table border=\"1\" class=\"dataframe\">\n",
       "  <thead>\n",
       "    <tr style=\"text-align: right;\">\n",
       "      <th></th>\n",
       "      <th>country</th>\n",
       "      <th>designation</th>\n",
       "      <th>points</th>\n",
       "      <th>price</th>\n",
       "      <th>province</th>\n",
       "      <th>region_1</th>\n",
       "      <th>region_2</th>\n",
       "      <th>variety</th>\n",
       "      <th>winery</th>\n",
       "    </tr>\n",
       "  </thead>\n",
       "  <tbody>\n",
       "    <tr>\n",
       "      <th>0</th>\n",
       "      <td>US</td>\n",
       "      <td>Martha's Vineyard</td>\n",
       "      <td>(95, 100]</td>\n",
       "      <td>(60, 2100]</td>\n",
       "      <td>California</td>\n",
       "      <td>Napa Valley</td>\n",
       "      <td>Napa</td>\n",
       "      <td>Cabernet Sauvignon</td>\n",
       "      <td>Heitz</td>\n",
       "    </tr>\n",
       "    <tr>\n",
       "      <th>2</th>\n",
       "      <td>US</td>\n",
       "      <td>Special Selected Late Harvest</td>\n",
       "      <td>(95, 100]</td>\n",
       "      <td>(60, 2100]</td>\n",
       "      <td>California</td>\n",
       "      <td>Knights Valley</td>\n",
       "      <td>Sonoma</td>\n",
       "      <td>Sauvignon Blanc</td>\n",
       "      <td>Macauley</td>\n",
       "    </tr>\n",
       "    <tr>\n",
       "      <th>3</th>\n",
       "      <td>US</td>\n",
       "      <td>Reserve</td>\n",
       "      <td>(95, 100]</td>\n",
       "      <td>(60, 2100]</td>\n",
       "      <td>Oregon</td>\n",
       "      <td>Willamette Valley</td>\n",
       "      <td>Willamette Valley</td>\n",
       "      <td>Pinot Noir</td>\n",
       "      <td>Ponzi</td>\n",
       "    </tr>\n",
       "    <tr>\n",
       "      <th>8</th>\n",
       "      <td>US</td>\n",
       "      <td>Silice</td>\n",
       "      <td>(90, 95]</td>\n",
       "      <td>(60, 2100]</td>\n",
       "      <td>Oregon</td>\n",
       "      <td>Chehalem Mountains</td>\n",
       "      <td>Willamette Valley</td>\n",
       "      <td>Pinot Noir</td>\n",
       "      <td>Bergström</td>\n",
       "    </tr>\n",
       "    <tr>\n",
       "      <th>9</th>\n",
       "      <td>US</td>\n",
       "      <td>Gap's Crown Vineyard</td>\n",
       "      <td>(90, 95]</td>\n",
       "      <td>(50, 60]</td>\n",
       "      <td>California</td>\n",
       "      <td>Sonoma Coast</td>\n",
       "      <td>Sonoma</td>\n",
       "      <td>Pinot Noir</td>\n",
       "      <td>Blue Farm</td>\n",
       "    </tr>\n",
       "  </tbody>\n",
       "</table>\n",
       "</div>"
      ],
      "text/plain": [
       "  country                    designation     points       price    province  \\\n",
       "0      US              Martha's Vineyard  (95, 100]  (60, 2100]  California   \n",
       "2      US  Special Selected Late Harvest  (95, 100]  (60, 2100]  California   \n",
       "3      US                        Reserve  (95, 100]  (60, 2100]      Oregon   \n",
       "8      US                         Silice   (90, 95]  (60, 2100]      Oregon   \n",
       "9      US           Gap's Crown Vineyard   (90, 95]    (50, 60]  California   \n",
       "\n",
       "             region_1           region_2             variety     winery  \n",
       "0         Napa Valley               Napa  Cabernet Sauvignon      Heitz  \n",
       "2      Knights Valley             Sonoma     Sauvignon Blanc   Macauley  \n",
       "3   Willamette Valley  Willamette Valley          Pinot Noir      Ponzi  \n",
       "8  Chehalem Mountains  Willamette Valley          Pinot Noir  Bergström  \n",
       "9        Sonoma Coast             Sonoma          Pinot Noir  Blue Farm  "
      ]
     },
     "execution_count": 6,
     "metadata": {},
     "output_type": "execute_result"
    }
   ],
   "source": [
    "bin = [0,75,80,85,90,95,100]\n",
    "winedata['points'] = pd.cut(winedata['points'],bin)\n",
    "winedata['points'] = winedata['points'].astype('str')\n",
    "bin = [0,20,30,40,50,60,2100]\n",
    "winedata['price'] = pd.cut(winedata['price'],bin)\n",
    "winedata['price'] = winedata['price'].astype('str')\n",
    "winedata.head()"
   ]
  },
  {
   "cell_type": "markdown",
   "metadata": {},
   "source": [
    "# 构建Aprior算法"
   ]
  },
  {
   "cell_type": "code",
   "execution_count": 7,
   "metadata": {
    "collapsed": true
   },
   "outputs": [],
   "source": [
    "def createC1( dataSet ):\n",
    "    \"\"\"\n",
    "    构建初始候选项集的列表，即所有候选项集只包含一个元素，\n",
    "    C1是大小为1的所有候选项集的集合\n",
    "    \"\"\"\n",
    "    C1 = []\n",
    "    for transaction in np.array(dataSet):\n",
    "        for item in transaction:\n",
    "            if [item] not in C1:\n",
    "                C1.append( [item] )\n",
    "    C1.sort()\n",
    "    return list(map( frozenset, C1 ))\n",
    "\n",
    "def scanD( D, Ck, minSupport ):\n",
    "    \"\"\"\n",
    "    计算Ck中的项集在数据集合D(记录或者transactions)中的支持度,\n",
    "    返回满足最小支持度的项集的集合，和所有项集支持度信息的字典。\n",
    "    \"\"\"\n",
    "    ssCnt = {}\n",
    "    for tid in D:\n",
    "        # 对于每一条transaction\n",
    "        if Ck is not None:\n",
    "            for can in Ck:\n",
    "                # 对于每一个候选项集can，检查是否是transaction的一部分\n",
    "                # 即该候选can是否得到transaction的支持\n",
    "                if can.issubset( tid ):\n",
    "                    ssCnt[ can ] = ssCnt.get( can, 0) + 1\n",
    "    numItems = float( len( D ) )\n",
    "    retList = []\n",
    "    supportData = {}\n",
    "    for key in ssCnt:\n",
    "        # 每个项集的支持度\n",
    "        support = ssCnt[ key ] / numItems\n",
    "        \n",
    "        # 将满足最小支持度的项集，加入retList\n",
    "        if support >= minSupport:\n",
    "            retList.insert( 0, key )\n",
    "            \n",
    "            # 汇总支持度数据\n",
    "            supportData[ key ] = support\n",
    "    return retList, supportData\n",
    "\n",
    "# C1 = createC1(winedata)\n",
    "# D = list(map(set,np.array(winedata)))\n",
    "# L,supportData = scanD(D,C1,0.5)\n",
    "# print(L)"
   ]
  },
  {
   "cell_type": "code",
   "execution_count": 12,
   "metadata": {
    "collapsed": true
   },
   "outputs": [],
   "source": [
    "# Aprior算法\n",
    "def aprioriGen( Lk, k ):\n",
    "    '''\n",
    "    由初始候选项集的集合Lk生成新的生成候选项集，\n",
    "    k表示生成的新项集中所含有的元素个数\n",
    "    '''\n",
    "    retList = []\n",
    "    lenLk = len( Lk )\n",
    "    for i in range( lenLk ):\n",
    "        for j in range( i + 1, lenLk ):\n",
    "            L1 = list( Lk[ i ] )[ : k - 2 ];\n",
    "            L2 = list( Lk[ j ] )[ : k - 2 ];\n",
    "            L1.sort();L2.sort()    \n",
    "            if L1==L2:\n",
    "                retList.append( Lk[ i ] | Lk[ j ] ) \n",
    "    return retList\n",
    "\n",
    "def apriori( dataSet, minSupport = 0.5 ):\n",
    "    # 构建初始候选项集C1\n",
    "    C1 = createC1( dataSet )\n",
    "    \n",
    "    # 将dataSet集合化，以满足scanD的格式要求\n",
    "    D =list( map( set, dataSet ))\n",
    "    \n",
    "    # 构建初始的频繁项集，即所有项集只有一个元素\n",
    "    L1, suppData = scanD( D, C1, minSupport )\n",
    "    L = [ L1 ]\n",
    "    # 最初的L1中的每个项集含有一个元素，新生成的\n",
    "    # 项集应该含有2个元素，所以 k=2\n",
    "    k = 2\n",
    "    \n",
    "    while ( len( L[ k - 2 ] ) > 0 ):\n",
    "        Ck = aprioriGen( L[ k - 2 ], k )\n",
    "        Lk, supK = scanD( D, Ck, minSupport )\n",
    "        \n",
    "        # 将新的项集的支持度数据加入原来的总支持度字典中\n",
    "        suppData.update( supK )\n",
    "        \n",
    "        # 将符合最小支持度要求的项集加入L\n",
    "        L.append( Lk )\n",
    "        \n",
    "        # 新生成的项集中的元素个数应不断增加\n",
    "        k += 1\n",
    "    # 返回所有满足条件的频繁项集的列表，和所有候选项集的支持度信息\n",
    "    return L, suppData"
   ]
  },
  {
   "cell_type": "markdown",
   "metadata": {},
   "source": [
    "# 对于置信度大于0.1的模式进行进行挖掘，显示出频繁项集"
   ]
  },
  {
   "cell_type": "code",
   "execution_count": 13,
   "metadata": {
    "scrolled": false
   },
   "outputs": [
    {
     "data": {
      "text/plain": [
       "[[frozenset({'Columbia Valley'}),\n",
       "  frozenset({'(60, 2100]'}),\n",
       "  frozenset({'(80, 85]'}),\n",
       "  frozenset({'Pinot Noir'}),\n",
       "  frozenset({'US'}),\n",
       "  frozenset({'(30, 40]'}),\n",
       "  frozenset({'Chardonnay'}),\n",
       "  frozenset({'(20, 30]'}),\n",
       "  frozenset({'Central Coast'}),\n",
       "  frozenset({'(40, 50]'}),\n",
       "  frozenset({'(85, 90]'}),\n",
       "  frozenset({'(0, 20]'}),\n",
       "  frozenset({'Washington'}),\n",
       "  frozenset({'California'}),\n",
       "  frozenset({'Napa'}),\n",
       "  frozenset({'(90, 95]'}),\n",
       "  frozenset({'Cabernet Sauvignon'}),\n",
       "  frozenset({'Sonoma'})],\n",
       " [frozenset({'Chardonnay', 'US'}),\n",
       "  frozenset({'(0, 20]', 'US'}),\n",
       "  frozenset({'California', 'Chardonnay'}),\n",
       "  frozenset({'California', 'Napa'}),\n",
       "  frozenset({'California', 'US'}),\n",
       "  frozenset({'(90, 95]', 'US'}),\n",
       "  frozenset({'California', 'Pinot Noir'}),\n",
       "  frozenset({'(30, 40]', '(85, 90]'}),\n",
       "  frozenset({'(20, 30]', '(85, 90]'}),\n",
       "  frozenset({'(90, 95]', 'California'}),\n",
       "  frozenset({'Sonoma', 'US'}),\n",
       "  frozenset({'(20, 30]', 'US'}),\n",
       "  frozenset({'Columbia Valley', 'Washington'}),\n",
       "  frozenset({'California', 'Central Coast'}),\n",
       "  frozenset({'(40, 50]', 'California'}),\n",
       "  frozenset({'(85, 90]', 'California'}),\n",
       "  frozenset({'Cabernet Sauvignon', 'California'}),\n",
       "  frozenset({'(0, 20]', 'California'}),\n",
       "  frozenset({'Columbia Valley', 'US'}),\n",
       "  frozenset({'(30, 40]', 'US'}),\n",
       "  frozenset({'(85, 90]', 'US'}),\n",
       "  frozenset({'(30, 40]', 'California'}),\n",
       "  frozenset({'Napa', 'US'}),\n",
       "  frozenset({'(80, 85]', 'California'}),\n",
       "  frozenset({'Pinot Noir', 'US'}),\n",
       "  frozenset({'(40, 50]', 'US'}),\n",
       "  frozenset({'(0, 20]', '(85, 90]'}),\n",
       "  frozenset({'(80, 85]', 'US'}),\n",
       "  frozenset({'California', 'Sonoma'}),\n",
       "  frozenset({'Central Coast', 'US'}),\n",
       "  frozenset({'(20, 30]', 'California'}),\n",
       "  frozenset({'(60, 2100]', 'US'}),\n",
       "  frozenset({'US', 'Washington'}),\n",
       "  frozenset({'Cabernet Sauvignon', 'US'}),\n",
       "  frozenset({'(85, 90]', 'Central Coast'})],\n",
       " [frozenset({'California', 'Chardonnay', 'US'}),\n",
       "  frozenset({'(85, 90]', 'California', 'US'}),\n",
       "  frozenset({'(0, 20]', 'California', 'US'}),\n",
       "  frozenset({'California', 'Pinot Noir', 'US'}),\n",
       "  frozenset({'Cabernet Sauvignon', 'California', 'US'}),\n",
       "  frozenset({'(0, 20]', '(85, 90]', 'US'}),\n",
       "  frozenset({'(20, 30]', '(85, 90]', 'US'}),\n",
       "  frozenset({'California', 'Sonoma', 'US'}),\n",
       "  frozenset({'Columbia Valley', 'US', 'Washington'}),\n",
       "  frozenset({'(80, 85]', 'California', 'US'}),\n",
       "  frozenset({'(40, 50]', 'California', 'US'}),\n",
       "  frozenset({'(85, 90]', 'Central Coast', 'US'}),\n",
       "  frozenset({'(85, 90]', 'California', 'Central Coast'}),\n",
       "  frozenset({'California', 'Napa', 'US'}),\n",
       "  frozenset({'(30, 40]', '(85, 90]', 'US'}),\n",
       "  frozenset({'(30, 40]', 'California', 'US'}),\n",
       "  frozenset({'(90, 95]', 'California', 'US'}),\n",
       "  frozenset({'California', 'Central Coast', 'US'}),\n",
       "  frozenset({'(20, 30]', 'California', 'US'})],\n",
       " [frozenset({'(85, 90]', 'California', 'Central Coast', 'US'})],\n",
       " []]"
      ]
     },
     "execution_count": 13,
     "metadata": {},
     "output_type": "execute_result"
    }
   ],
   "source": [
    "myDat = list(map(set,np.array(winedata)))\n",
    "L, suppData = apriori(myDat, 0.1)\n",
    "L "
   ]
  },
  {
   "cell_type": "markdown",
   "metadata": {},
   "source": [
    "# 由于支持度大于0.1的频繁项集很多，取置信度大于0.8的进行分析"
   ]
  },
  {
   "cell_type": "code",
   "execution_count": 14,
   "metadata": {
    "collapsed": true
   },
   "outputs": [],
   "source": [
    "def select_conf(L,suppData,thredhold=0.8):\n",
    "    confList = []\n",
    "    for itemSet in L:\n",
    "            for record in itemSet:\n",
    "                if(len(record)>1): \n",
    "                    for i in record: \n",
    "                        tar = suppData[frozenset([i])]\n",
    "                        bset = record - frozenset([i])\n",
    "                        aset = suppData[record]\n",
    "                        ret = suppData.get(bset)\n",
    "                        try:\n",
    "                            if suppData.get(bset):\n",
    "                                con = aset/ret\n",
    "                                if con > thredhold:\n",
    "                                    confList.append([frozenset([i]),record,con])\n",
    "                        except TypeError as e:\n",
    "                            print(e)\n",
    "\n",
    "    return confList"
   ]
  },
  {
   "cell_type": "markdown",
   "metadata": {},
   "source": [
    "# 提升度相关性度量"
   ]
  },
  {
   "cell_type": "code",
   "execution_count": 15,
   "metadata": {
    "collapsed": true
   },
   "outputs": [],
   "source": [
    "def liftCheck(conList,suppData):\n",
    "    liftList_true=[]\n",
    "    liftList_no=[]\n",
    "    liftList_false=[]\n",
    "    for item in confList:\n",
    "        score = suppData.get(item[1])/(suppData.get(item[0])*suppData.get(item[1]-item[0]))\n",
    "        if score>1:\n",
    "            liftList_true.append(item)\n",
    "        if score<1:\n",
    "            liftList_false.append(item)\n",
    "        if score ==1:\n",
    "            liftList_no.append(item)\n",
    "    return liftList_true,liftList_no,liftList_false"
   ]
  },
  {
   "cell_type": "markdown",
   "metadata": {},
   "source": [
    "# 根据提升度度量查看正相关的关联规则"
   ]
  },
  {
   "cell_type": "code",
   "execution_count": 16,
   "metadata": {
    "scrolled": true
   },
   "outputs": [
    {
     "data": {
      "text/plain": [
       "[[frozenset({'California'}),\n",
       "  frozenset({'California', 'Chardonnay'}),\n",
       "  0.8161389172625126],\n",
       " [frozenset({'California'}), frozenset({'California', 'Napa'}), 1.0],\n",
       " [frozenset({'Washington'}),\n",
       "  frozenset({'Columbia Valley', 'Washington'}),\n",
       "  1.0],\n",
       " [frozenset({'Columbia Valley'}),\n",
       "  frozenset({'Columbia Valley', 'Washington'}),\n",
       "  0.9449526298595231],\n",
       " [frozenset({'California'}), frozenset({'California', 'Central Coast'}), 1.0],\n",
       " [frozenset({'California'}),\n",
       "  frozenset({'Cabernet Sauvignon', 'California'}),\n",
       "  0.826593137254902],\n",
       " [frozenset({'California'}),\n",
       "  frozenset({'(80, 85]', 'California'}),\n",
       "  0.8234507897934387],\n",
       " [frozenset({'California'}), frozenset({'California', 'Sonoma'}), 1.0],\n",
       " [frozenset({'California'}),\n",
       "  frozenset({'California', 'Chardonnay', 'US'}),\n",
       "  0.8161389172625126],\n",
       " [frozenset({'California'}),\n",
       "  frozenset({'Cabernet Sauvignon', 'California', 'US'}),\n",
       "  0.826593137254902],\n",
       " [frozenset({'California'}), frozenset({'California', 'Sonoma', 'US'}), 1.0],\n",
       " [frozenset({'Columbia Valley'}),\n",
       "  frozenset({'Columbia Valley', 'US', 'Washington'}),\n",
       "  0.9449526298595231],\n",
       " [frozenset({'Washington'}),\n",
       "  frozenset({'Columbia Valley', 'US', 'Washington'}),\n",
       "  1.0],\n",
       " [frozenset({'California'}),\n",
       "  frozenset({'(80, 85]', 'California', 'US'}),\n",
       "  0.8234507897934387],\n",
       " [frozenset({'California'}),\n",
       "  frozenset({'(85, 90]', 'California', 'Central Coast'}),\n",
       "  1.0],\n",
       " [frozenset({'California'}), frozenset({'California', 'Napa', 'US'}), 1.0],\n",
       " [frozenset({'California'}),\n",
       "  frozenset({'California', 'Central Coast', 'US'}),\n",
       "  1.0],\n",
       " [frozenset({'California'}),\n",
       "  frozenset({'(85, 90]', 'California', 'Central Coast', 'US'}),\n",
       "  1.0]]"
      ]
     },
     "execution_count": 16,
     "metadata": {},
     "output_type": "execute_result"
    }
   ],
   "source": [
    "confList = select_conf(L,suppData)\n",
    "yes,no,false = liftCheck(confList,suppData)\n",
    "yes"
   ]
  },
  {
   "cell_type": "markdown",
   "metadata": {},
   "source": [
    "# 全置信度和最大置信度计算"
   ]
  },
  {
   "cell_type": "code",
   "execution_count": 17,
   "metadata": {
    "collapsed": true
   },
   "outputs": [],
   "source": [
    "def all_confidence(conList,suppData):\n",
    "    result = []\n",
    "    for item in confList:\n",
    "        score = suppData.get(item[1])/max(suppData.get(item[0]),suppData.get(item[1]-item[0]))\n",
    "        result.append([score,item])\n",
    "    return result\n",
    "\n",
    "def max_confidence(conList,suppData):\n",
    "    result = []\n",
    "    for item in confList:\n",
    "        score = suppData.get(item[1])/min(suppData.get(item[0]),suppData.get(item[1]-item[0]))\n",
    "        result.append([score,item])\n",
    "    return result   "
   ]
  },
  {
   "cell_type": "markdown",
   "metadata": {},
   "source": [
    "# 全置信度大于0.8的关联关系展示"
   ]
  },
  {
   "cell_type": "code",
   "execution_count": 18,
   "metadata": {
    "scrolled": true
   },
   "outputs": [
    {
     "name": "stdout",
     "output_type": "stream",
     "text": [
      "全置信度 0.9449526298595231 [frozenset({'Washington'}), frozenset({'Washington', 'Columbia Valley'}), 1.0]\n",
      "全置信度 0.9449526298595231 [frozenset({'Columbia Valley'}), frozenset({'Washington', 'Columbia Valley'}), 0.9449526298595231]\n",
      "全置信度 0.9449526298595231 [frozenset({'Columbia Valley'}), frozenset({'US', 'Columbia Valley', 'Washington'}), 0.9449526298595231]\n",
      "全置信度 0.9449526298595231 [frozenset({'Washington'}), frozenset({'US', 'Columbia Valley', 'Washington'}), 1.0]\n"
     ]
    }
   ],
   "source": [
    "def selsct_confidence(conf,delta,conf_str):\n",
    "    for item in conf:\n",
    "        if item[0] >= delta:\n",
    "            print(conf_str,str(item[0]),item[1])\n",
    "all_conf = all_confidence(yes,suppData)\n",
    "selsct_confidence(all_conf,0.8,'全置信度')"
   ]
  },
  {
   "cell_type": "markdown",
   "metadata": {},
   "source": [
    "# 最大置信度大于0.9的关联关系展示"
   ]
  },
  {
   "cell_type": "code",
   "execution_count": 19,
   "metadata": {
    "scrolled": false
   },
   "outputs": [
    {
     "name": "stdout",
     "output_type": "stream",
     "text": [
      "最大置信度 1.0 [frozenset({'US'}), frozenset({'Chardonnay', 'US'}), 1.0]\n",
      "最大置信度 1.0 [frozenset({'US'}), frozenset({'US', '(0, 20]'}), 1.0]\n",
      "最大置信度 1.0 [frozenset({'California'}), frozenset({'California', 'Napa'}), 1.0]\n",
      "最大置信度 1.0 [frozenset({'US'}), frozenset({'California', 'US'}), 1.0]\n",
      "最大置信度 1.0 [frozenset({'US'}), frozenset({'US', '(90, 95]'}), 1.0]\n",
      "最大置信度 1.0 [frozenset({'US'}), frozenset({'US', 'Sonoma'}), 1.0]\n",
      "最大置信度 1.0 [frozenset({'US'}), frozenset({'US', '(20, 30]'}), 1.0]\n",
      "最大置信度 1.0 [frozenset({'Washington'}), frozenset({'Washington', 'Columbia Valley'}), 1.0]\n",
      "最大置信度 1.0 [frozenset({'Columbia Valley'}), frozenset({'Washington', 'Columbia Valley'}), 0.9449526298595231]\n",
      "最大置信度 1.0 [frozenset({'California'}), frozenset({'Central Coast', 'California'}), 1.0]\n",
      "最大置信度 1.0 [frozenset({'US'}), frozenset({'US', 'Columbia Valley'}), 1.0]\n",
      "最大置信度 1.0 [frozenset({'US'}), frozenset({'US', '(30, 40]'}), 1.0]\n",
      "最大置信度 1.0 [frozenset({'US'}), frozenset({'US', '(85, 90]'}), 1.0]\n",
      "最大置信度 1.0 [frozenset({'US'}), frozenset({'Napa', 'US'}), 1.0]\n",
      "最大置信度 1.0 [frozenset({'US'}), frozenset({'Pinot Noir', 'US'}), 1.0]\n",
      "最大置信度 1.0 [frozenset({'US'}), frozenset({'US', '(40, 50]'}), 1.0]\n",
      "最大置信度 1.0 [frozenset({'US'}), frozenset({'US', '(80, 85]'}), 1.0]\n",
      "最大置信度 1.0 [frozenset({'California'}), frozenset({'California', 'Sonoma'}), 1.0]\n",
      "最大置信度 1.0 [frozenset({'US'}), frozenset({'Central Coast', 'US'}), 1.0]\n",
      "最大置信度 1.0 [frozenset({'US'}), frozenset({'US', '(60, 2100]'}), 1.0]\n",
      "最大置信度 1.0 [frozenset({'US'}), frozenset({'US', 'Washington'}), 1.0]\n",
      "最大置信度 1.0 [frozenset({'US'}), frozenset({'US', 'Cabernet Sauvignon'}), 1.0]\n",
      "最大置信度 1.0 [frozenset({'US'}), frozenset({'Chardonnay', 'California', 'US'}), 1.0]\n",
      "最大置信度 1.0 [frozenset({'US'}), frozenset({'California', 'US', '(85, 90]'}), 1.0]\n",
      "最大置信度 1.0 [frozenset({'US'}), frozenset({'California', 'US', '(0, 20]'}), 1.0]\n",
      "最大置信度 1.0 [frozenset({'US'}), frozenset({'Pinot Noir', 'California', 'US'}), 1.0]\n",
      "最大置信度 1.0 [frozenset({'US'}), frozenset({'California', 'US', 'Cabernet Sauvignon'}), 1.0]\n",
      "最大置信度 1.0 [frozenset({'US'}), frozenset({'US', '(0, 20]', '(85, 90]'}), 1.0]\n",
      "最大置信度 1.0 [frozenset({'US'}), frozenset({'US', '(20, 30]', '(85, 90]'}), 1.0]\n",
      "最大置信度 1.0 [frozenset({'California'}), frozenset({'California', 'US', 'Sonoma'}), 1.0]\n",
      "最大置信度 1.0 [frozenset({'US'}), frozenset({'California', 'US', 'Sonoma'}), 1.0]\n",
      "最大置信度 1.0 [frozenset({'US'}), frozenset({'US', 'Columbia Valley', 'Washington'}), 1.0]\n",
      "最大置信度 1.0 [frozenset({'Columbia Valley'}), frozenset({'US', 'Columbia Valley', 'Washington'}), 0.9449526298595231]\n",
      "最大置信度 1.0 [frozenset({'Washington'}), frozenset({'US', 'Columbia Valley', 'Washington'}), 1.0]\n",
      "最大置信度 1.0 [frozenset({'US'}), frozenset({'California', 'US', '(80, 85]'}), 1.0]\n",
      "最大置信度 1.0 [frozenset({'US'}), frozenset({'California', 'US', '(40, 50]'}), 1.0]\n",
      "最大置信度 1.0 [frozenset({'US'}), frozenset({'Central Coast', 'US', '(85, 90]'}), 1.0]\n",
      "最大置信度 1.0 [frozenset({'California'}), frozenset({'Central Coast', 'California', '(85, 90]'}), 1.0]\n",
      "最大置信度 1.0 [frozenset({'California'}), frozenset({'California', 'Napa', 'US'}), 1.0]\n",
      "最大置信度 1.0 [frozenset({'US'}), frozenset({'California', 'Napa', 'US'}), 1.0]\n",
      "最大置信度 1.0 [frozenset({'US'}), frozenset({'US', '(30, 40]', '(85, 90]'}), 1.0]\n",
      "最大置信度 1.0 [frozenset({'US'}), frozenset({'California', 'US', '(30, 40]'}), 1.0]\n",
      "最大置信度 1.0 [frozenset({'US'}), frozenset({'California', 'US', '(90, 95]'}), 1.0]\n",
      "最大置信度 1.0 [frozenset({'California'}), frozenset({'Central Coast', 'California', 'US'}), 1.0]\n",
      "最大置信度 1.0 [frozenset({'US'}), frozenset({'Central Coast', 'California', 'US'}), 1.0]\n",
      "最大置信度 1.0 [frozenset({'US'}), frozenset({'California', 'US', '(20, 30]'}), 1.0]\n",
      "最大置信度 1.0 [frozenset({'US'}), frozenset({'US', 'Central Coast', 'California', '(85, 90]'}), 1.0]\n",
      "最大置信度 1.0 [frozenset({'California'}), frozenset({'US', 'Central Coast', 'California', '(85, 90]'}), 1.0]\n"
     ]
    }
   ],
   "source": [
    "max_conf = max_confidence(yes,suppData)\n",
    "selsct_confidence(max_conf,0.9,'最大置信度')"
   ]
  },
  {
   "cell_type": "markdown",
   "metadata": {},
   "source": [
    "# 计算不平衡比IR"
   ]
  },
  {
   "cell_type": "code",
   "execution_count": 21,
   "metadata": {
    "collapsed": true
   },
   "outputs": [],
   "source": [
    "def cal_ir(conList,suppData):\n",
    "    result = []\n",
    "    for item in confList:\n",
    "        score = abs(suppData.get(item[0]) - suppData.get(item[1]-item[0])) / (suppData.get(item[0])+suppData.get(item[1]-item[0]) - suppData.get(item[1]))\n",
    "        result.append([score,item[0],item[1]-item[0]])\n",
    "    return result"
   ]
  },
  {
   "cell_type": "code",
   "execution_count": 24,
   "metadata": {
    "scrolled": true
   },
   "outputs": [
    {
     "name": "stdout",
     "output_type": "stream",
     "text": [
      "ir 0.4981269590479346 frozenset({'US'}) frozenset({'(85, 90]'})\n"
     ]
    }
   ],
   "source": [
    "IR = cal_ir(yes,suppData)\n",
    "def bigger_ir(conf,delta1,delta2,conf_str):\n",
    "    for item in conf:\n",
    "        if item[0] > delta1 and  item[0] < delta2:\n",
    "            print(conf_str,str(item[0]),item[1],item[2])\n",
    "bigger_ir(IR,0.4,0.6,'ir')"
   ]
  },
  {
   "cell_type": "markdown",
   "metadata": {
    "collapsed": true
   },
   "source": [
    "# 使用全置信度可以看到，产地Columbia Valley与城市Washington，国家US相关性较大\n",
    "# 使用不平衡比分析可知，国家US与分数(85,90]平衡性较好"
   ]
  }
 ],
 "metadata": {
  "anaconda-cloud": {},
  "kernelspec": {
   "display_name": "Python [Root]",
   "language": "python",
   "name": "Python [Root]"
  },
  "language_info": {
   "codemirror_mode": {
    "name": "ipython",
    "version": 3
   },
   "file_extension": ".py",
   "mimetype": "text/x-python",
   "name": "python",
   "nbconvert_exporter": "python",
   "pygments_lexer": "ipython3",
   "version": "3.5.2"
  }
 },
 "nbformat": 4,
 "nbformat_minor": 2
}
